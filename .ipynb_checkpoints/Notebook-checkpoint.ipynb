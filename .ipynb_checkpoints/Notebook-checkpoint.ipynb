{
 "cells": [
  {
   "cell_type": "code",
   "execution_count": 21,
   "id": "702f4aa1-a144-40ea-92e4-df24ffacfef7",
   "metadata": {},
   "outputs": [],
   "source": [
    "import pandas as pd\n",
    "from ast import literal_eval\n",
    "import plotly.graph_objects as go\n",
    "import plotly.io as pio\n",
    "pio.templates.default = \"simple_white\""
   ]
  },
  {
   "cell_type": "code",
   "execution_count": 22,
   "id": "0d8c67fd",
   "metadata": {},
   "outputs": [],
   "source": [
    "df = pd.read_csv(\"data/threads.csv\", \n",
    "                 parse_dates=['created_at'], \n",
    "                 converters={'tags': literal_eval, 'messages': literal_eval})\n",
    "\n",
    "users = pd.read_csv(\"data/members_data.csv\", converters={'roles': literal_eval})\n",
    "df_learner = users[(users['roles'].apply(len) == 2) & (\n",
    "        users['roles'].apply(lambda x: 957854915194126339 in x))]"
   ]
  },
  {
   "cell_type": "markdown",
   "id": "8a28ee81",
   "metadata": {},
   "source": [
    "### Busiest hour"
   ]
  },
  {
   "cell_type": "code",
   "execution_count": 25,
   "id": "03238c5c-34d0-4289-834d-1e0b999e0ed1",
   "metadata": {},
   "outputs": [],
   "source": [
    "def graph_busy_hour(df_busy_hour):\n",
    "    def calculate_average(start_index):\n",
    "        return df_busy_hour.loc[start_index:start_index+6, 'number_of_threads'].mean()\n",
    "\n",
    "    max_average = -1\n",
    "    max_range = None\n",
    "\n",
    "    # Iterate through the dataframe to find the range with the highest average\n",
    "    for i in range(len(df_busy_hour) - 6):\n",
    "        average = calculate_average(i)\n",
    "        if average > max_average:\n",
    "            max_average = average\n",
    "            max_range = (i, i+6)\n",
    "    x, y = max_range\n",
    "\n",
    "    fig = go.Figure()\n",
    "\n",
    "    # Add bar trace\n",
    "    fig.add_trace(go.Bar(\n",
    "        x=df_busy_hour['Hour'],\n",
    "        y=df_busy_hour['number_of_threads'],\n",
    "        text=df_busy_hour['number_of_threads'],\n",
    "        textposition='outside',\n",
    "        hovertemplate='%{x}h: %{y} threads<extra></extra>',\n",
    "        marker=dict(color=['#FF4B4B' if df_busy_hour['Hour'][x] <= hour <=\n",
    "                    df_busy_hour['Hour'][y] else '#1f77b4' for hour in df_busy_hour['Hour']])\n",
    "    ))\n",
    "\n",
    "    fig.add_annotation(\n",
    "        x=0.58,\n",
    "        y=0.8,\n",
    "        xref='paper',\n",
    "        yref='paper',\n",
    "        text='Busiest hours',\n",
    "        showarrow=False,\n",
    "        font=dict(color='#ff7f0e', size=15)\n",
    "    )\n",
    "\n",
    "    fig.update_layout(\n",
    "        title=\"\",\n",
    "        xaxis=dict(title='Hour'),\n",
    "        yaxis=dict(title='Number of threads'),\n",
    "        hoverlabel=dict(bgcolor='#000', font_color='#fff'),\n",
    "        margin=dict(t=0, l=0, r=0, b=0)\n",
    "    )\n",
    "    fig.update_layout()\n",
    "    fig.update_yaxes(showgrid=False)\n",
    "\n",
    "    return fig, df_busy_hour[x:y+1]['number_of_threads'].sum()"
   ]
  },
  {
   "cell_type": "code",
   "execution_count": null,
   "id": "f199d1ce-46e0-4d23-b796-b86254028a54",
   "metadata": {},
   "outputs": [],
   "source": []
  }
 ],
 "metadata": {
  "kernelspec": {
   "display_name": "Python 3 (ipykernel)",
   "language": "python",
   "name": "python3"
  },
  "language_info": {
   "codemirror_mode": {
    "name": "ipython",
    "version": 3
   },
   "file_extension": ".py",
   "mimetype": "text/x-python",
   "name": "python",
   "nbconvert_exporter": "python",
   "pygments_lexer": "ipython3",
   "version": "3.11.4"
  }
 },
 "nbformat": 4,
 "nbformat_minor": 5
}
