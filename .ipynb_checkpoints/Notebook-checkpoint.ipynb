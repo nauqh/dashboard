{
 "cells": [
  {
   "cell_type": "code",
   "execution_count": 125,
   "id": "702f4aa1-a144-40ea-92e4-df24ffacfef7",
   "metadata": {},
   "outputs": [],
   "source": [
    "import pandas as pd\n",
    "from ast import literal_eval\n",
    "import plotly.graph_objects as go\n",
    "import plotly.io as pio\n",
    "pio.templates.default = \"simple_white\""
   ]
  },
  {
   "cell_type": "code",
   "execution_count": 126,
   "id": "c9f7f37b-5463-4358-8d7f-463ad8e5ee6f",
   "metadata": {},
   "outputs": [],
   "source": [
    "df = pd.read_csv(\"data/threads.csv\",\n",
    "                 parse_dates=['created_at'],\n",
    "                 converters={'tags': literal_eval,'messages': literal_eval})\n",
    "users = pd.read_csv(\"data/users.csv\",\n",
    "                   converters={'roles': literal_eval})\n",
    "df_tag = pd.read_csv(\"data/tags.csv\")"
   ]
  },
  {
   "cell_type": "code",
   "execution_count": 127,
   "id": "6f08fc02-7038-48f7-baaf-7991d6df1e44",
   "metadata": {},
   "outputs": [],
   "source": [
    "df_learner = users[(users['roles'].apply(len) == 2) & (users['roles'].apply(lambda x: 957854915194126339 in x))]\n",
    "df['Hour'] = df['created_at'].dt.hour\n",
    "df_busy_hour = df.groupby(['Hour']).agg(\n",
    "    {'id': 'count'}).reset_index().rename(columns={'id': 'number_of_threads'})\n",
    "df_busy_hour['Hour'] = (df_busy_hour['Hour'] + 8) % 24"
   ]
  },
  {
   "cell_type": "code",
   "execution_count": 128,
   "id": "54c9b8c0-15ee-4272-8df9-229b0d9bb6d7",
   "metadata": {},
   "outputs": [],
   "source": [
    "def calculate_average(start_index):\n",
    "        return df_busy_hour.loc[start_index:start_index+6, 'number_of_threads'].mean()\n",
    "\n",
    "max_average = -1\n",
    "max_range = None\n",
    "\n",
    "# Iterate through the dataframe to find the range with the highest average\n",
    "for i in range(len(df_busy_hour) - 6):\n",
    "    average = calculate_average(i)\n",
    "    if average > max_average:\n",
    "        max_average = average\n",
    "        max_range = (i, i+6)\n",
    "x, y = max_range"
   ]
  },
  {
   "cell_type": "code",
   "execution_count": 131,
   "id": "79238b85-f3db-4e00-adc6-cd8497a5d986",
   "metadata": {},
   "outputs": [
    {
     "data": {
      "text/plain": [
       "71"
      ]
     },
     "execution_count": 131,
     "metadata": {},
     "output_type": "execute_result"
    }
   ],
   "source": [
    "df_busy_hour[x:y+1]['number_of_threads'].sum()"
   ]
  },
  {
   "cell_type": "code",
   "execution_count": null,
   "id": "63ee24e8-9efb-4e52-99c6-c9fadfb4a990",
   "metadata": {},
   "outputs": [],
   "source": []
  }
 ],
 "metadata": {
  "kernelspec": {
   "display_name": "Python 3 (ipykernel)",
   "language": "python",
   "name": "python3"
  },
  "language_info": {
   "codemirror_mode": {
    "name": "ipython",
    "version": 3
   },
   "file_extension": ".py",
   "mimetype": "text/x-python",
   "name": "python",
   "nbconvert_exporter": "python",
   "pygments_lexer": "ipython3",
   "version": "3.11.4"
  }
 },
 "nbformat": 4,
 "nbformat_minor": 5
}
