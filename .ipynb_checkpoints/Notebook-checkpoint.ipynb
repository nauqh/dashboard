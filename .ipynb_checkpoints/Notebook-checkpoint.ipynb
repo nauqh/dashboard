{
 "cells": [
  {
   "cell_type": "code",
   "execution_count": 1,
   "id": "702f4aa1-a144-40ea-92e4-df24ffacfef7",
   "metadata": {},
   "outputs": [],
   "source": [
    "import pandas as pd\n",
    "from ast import literal_eval\n",
    "import plotly.graph_objects as go\n",
    "import plotly.io as pio\n",
    "pio.templates.default = \"simple_white\""
   ]
  },
  {
   "cell_type": "code",
   "execution_count": 2,
   "id": "0d8c67fd",
   "metadata": {},
   "outputs": [],
   "source": [
    "df = pd.read_csv(\"data/threads.csv\", \n",
    "                 parse_dates=['created_at'], \n",
    "                 converters={'tags': literal_eval, 'messages': literal_eval})\n",
    "\n",
    "users = pd.read_csv(\"data/members_data.csv\", converters={'roles': literal_eval})\n",
    "df_learner = users[(users['roles'].apply(len) == 2) & (\n",
    "        users['roles'].apply(lambda x: 957854915194126339 in x))]"
   ]
  },
  {
   "cell_type": "markdown",
   "id": "8a28ee81",
   "metadata": {},
   "source": [
    "### Topics"
   ]
  },
  {
   "cell_type": "code",
   "execution_count": 3,
   "id": "f199d1ce-46e0-4d23-b796-b86254028a54",
   "metadata": {},
   "outputs": [
    {
     "ename": "NameError",
     "evalue": "name 'df_tag' is not defined",
     "output_type": "error",
     "traceback": [
      "\u001b[1;31m---------------------------------------------------------------------------\u001b[0m",
      "\u001b[1;31mNameError\u001b[0m                                 Traceback (most recent call last)",
      "Cell \u001b[1;32mIn[3], line 11\u001b[0m\n\u001b[0;32m      2\u001b[0m     \u001b[38;5;66;03m# Dictionary for module names\u001b[39;00m\n\u001b[0;32m      3\u001b[0m module_names \u001b[38;5;241m=\u001b[39m {\n\u001b[0;32m      4\u001b[0m         \u001b[38;5;124m'\u001b[39m\u001b[38;5;124mM1.1\u001b[39m\u001b[38;5;124m'\u001b[39m: \u001b[38;5;124m'\u001b[39m\u001b[38;5;124mSQL Basics\u001b[39m\u001b[38;5;124m'\u001b[39m,\n\u001b[0;32m      5\u001b[0m         \u001b[38;5;124m'\u001b[39m\u001b[38;5;124mM1.2\u001b[39m\u001b[38;5;124m'\u001b[39m: \u001b[38;5;124m'\u001b[39m\u001b[38;5;124mSQL Advanced\u001b[39m\u001b[38;5;124m'\u001b[39m,\n\u001b[1;32m   (...)\u001b[0m\n\u001b[0;32m      9\u001b[0m         \u001b[38;5;124m'\u001b[39m\u001b[38;5;124mM4\u001b[39m\u001b[38;5;124m'\u001b[39m: \u001b[38;5;124m'\u001b[39m\u001b[38;5;124mData visualization\u001b[39m\u001b[38;5;124m'\u001b[39m\n\u001b[0;32m     10\u001b[0m     }\n\u001b[1;32m---> 11\u001b[0m df_merged \u001b[38;5;241m=\u001b[39m pd\u001b[38;5;241m.\u001b[39mmerge(df_tag_counts, \u001b[43mdf_tag\u001b[49m, how\u001b[38;5;241m=\u001b[39m\u001b[38;5;124m\"\u001b[39m\u001b[38;5;124mleft\u001b[39m\u001b[38;5;124m\"\u001b[39m, on\u001b[38;5;241m=\u001b[39m\u001b[38;5;124m'\u001b[39m\u001b[38;5;124mid\u001b[39m\u001b[38;5;124m'\u001b[39m)\n\u001b[0;32m     12\u001b[0m df_merged \u001b[38;5;241m=\u001b[39m df_merged\u001b[38;5;241m.\u001b[39mdropna(subset\u001b[38;5;241m=\u001b[39m[\u001b[38;5;124m'\u001b[39m\u001b[38;5;124mname\u001b[39m\u001b[38;5;124m'\u001b[39m])\u001b[38;5;241m.\u001b[39mreset_index(drop\u001b[38;5;241m=\u001b[39m\u001b[38;5;28;01mTrue\u001b[39;00m)\n\u001b[0;32m     13\u001b[0m df_merged[\u001b[38;5;124m'\u001b[39m\u001b[38;5;124mmodule\u001b[39m\u001b[38;5;124m'\u001b[39m] \u001b[38;5;241m=\u001b[39m df_merged[\u001b[38;5;124m'\u001b[39m\u001b[38;5;124mname\u001b[39m\u001b[38;5;124m'\u001b[39m]\u001b[38;5;241m.\u001b[39mapply(\n\u001b[0;32m     14\u001b[0m     \u001b[38;5;28;01mlambda\u001b[39;00m x: module_names\u001b[38;5;241m.\u001b[39mget(x, x))\n",
      "\u001b[1;31mNameError\u001b[0m: name 'df_tag' is not defined"
     ]
    }
   ],
   "source": [
    "df_tag_counts = df.explode('tags')['tags'].value_counts().rename_axis('id').reset_index(name='number_of_threads')\n",
    "    # Dictionary for module names\n",
    "module_names = {\n",
    "        'M1.1': 'SQL Basics',\n",
    "        'M1.2': 'SQL Advanced',\n",
    "        'M2.1': 'Python 101',\n",
    "        'M3.1': 'Pandas basics',\n",
    "        'M3.2': 'Prepare your data',\n",
    "        'M4': 'Data visualization'\n",
    "    }\n",
    "df_merged = pd.merge(df_tag_counts, df_tag, how=\"left\", on='id')\n",
    "df_merged = df_merged.dropna(subset=['name']).reset_index(drop=True)\n",
    "df_merged['module'] = df_merged['name'].apply(\n",
    "    lambda x: module_names.get(x, x))"
   ]
  },
  {
   "cell_type": "code",
   "execution_count": null,
   "id": "58d9fe40-b49b-4927-8eba-425998cbd007",
   "metadata": {},
   "outputs": [],
   "source": []
  }
 ],
 "metadata": {
  "kernelspec": {
   "display_name": "Python 3 (ipykernel)",
   "language": "python",
   "name": "python3"
  },
  "language_info": {
   "codemirror_mode": {
    "name": "ipython",
    "version": 3
   },
   "file_extension": ".py",
   "mimetype": "text/x-python",
   "name": "python",
   "nbconvert_exporter": "python",
   "pygments_lexer": "ipython3",
   "version": "3.11.4"
  }
 },
 "nbformat": 4,
 "nbformat_minor": 5
}
